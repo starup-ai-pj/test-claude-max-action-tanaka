{
  "nbformat": 4,
  "nbformat_minor": 0,
  "metadata": {
    "colab": {
      "provenance": []
    },
    "kernelspec": {
      "name": "python3",
      "display_name": "Python 3"
    },
    "language_info": {
      "name": "python"
    }
  },
  "cells": [
    {
      "cell_type": "markdown",
      "source": [
        "# DXF to PNG Converter for Google Colab\n",
        "\n",
        "This notebook converts DXF files to PNG format with proper Japanese text handling."
      ],
      "metadata": {
        "id": "header"
      }
    },
    {
      "cell_type": "code",
      "execution_count": null,
      "metadata": {
        "id": "install"
      },
      "outputs": [],
      "source": [
        "# Install required packages\n",
        "!pip install ezdxf matplotlib\n",
        "\n",
        "# Install Japanese fonts\n",
        "!apt-get update && apt-get install -y fonts-noto-cjk fonts-ipafont-gothic fonts-ipafont-mincho"
      ]
    },
    {
      "cell_type": "code",
      "source": [
        "# Import required libraries\n",
        "import ezdxf\n",
        "from ezdxf.addons.drawing import RenderContext, Frontend\n",
        "from ezdxf.addons.drawing.matplotlib import MatplotlibBackend\n",
        "import matplotlib.pyplot as plt\n",
        "import matplotlib.font_manager as fm\n",
        "import os\n",
        "from google.colab import files\n",
        "import io"
      ],
      "metadata": {
        "id": "imports"
      },
      "execution_count": null,
      "outputs": []
    },
    {
      "cell_type": "code",
      "source": [
        "# Refresh font cache after installing Japanese fonts\n",
        "fm._rebuild()\n",
        "\n",
        "# Setup Japanese font\n",
        "def setup_japanese_font():\n",
        "    \"\"\"Setup Japanese font for matplotlib\"\"\"\n",
        "    japanese_fonts = [\n",
        "        'Noto Sans CJK JP',\n",
        "        'IPAGothic',\n",
        "        'IPAPGothic',\n",
        "        'IPAMincho',\n",
        "        'IPAPMincho'\n",
        "    ]\n",
        "    \n",
        "    available_fonts = [f.name for f in fm.fontManager.ttflist]\n",
        "    \n",
        "    for font in japanese_fonts:\n",
        "        if font in available_fonts:\n",
        "            plt.rcParams['font.family'] = font\n",
        "            print(f\"Using Japanese font: {font}\")\n",
        "            return True\n",
        "    \n",
        "    print(\"Warning: No Japanese font found\")\n",
        "    return False\n",
        "\n",
        "setup_japanese_font()"
      ],
      "metadata": {
        "id": "setup_font"
      },
      "execution_count": null,
      "outputs": []
    },
    {
      "cell_type": "code",
      "source": [
        "def convert_dxf_to_png(dxf_file, png_file, dpi=300):\n",
        "    \"\"\"\n",
        "    Convert a DXF file to PNG format\n",
        "    \n",
        "    Args:\n",
        "        dxf_file (str): Path to input DXF file\n",
        "        png_file (str): Path to output PNG file\n",
        "        dpi (int): Resolution for PNG output\n",
        "    \"\"\"\n",
        "    try:\n",
        "        # Read DXF file\n",
        "        print(f\"Reading DXF file: {dxf_file}\")\n",
        "        doc = ezdxf.readfile(dxf_file)\n",
        "        \n",
        "        # Get the modelspace\n",
        "        msp = doc.modelspace()\n",
        "        \n",
        "        # Create rendering context\n",
        "        context = RenderContext(doc)\n",
        "        \n",
        "        # Create matplotlib backend\n",
        "        backend = MatplotlibBackend(context)\n",
        "        \n",
        "        # Create frontend\n",
        "        frontend = Frontend(context, backend)\n",
        "        \n",
        "        # Draw all entities\n",
        "        frontend.draw_layout(msp)\n",
        "        \n",
        "        # Get the figure\n",
        "        fig = backend.get_figure()\n",
        "        \n",
        "        # Set figure size and DPI\n",
        "        fig.set_dpi(dpi)\n",
        "        \n",
        "        # Save to PNG\n",
        "        print(f\"Saving PNG file: {png_file}\")\n",
        "        fig.savefig(png_file, dpi=dpi, bbox_inches='tight', pad_inches=0.1)\n",
        "        \n",
        "        # Display the result\n",
        "        plt.figure(figsize=(10, 10))\n",
        "        img = plt.imread(png_file)\n",
        "        plt.imshow(img)\n",
        "        plt.axis('off')\n",
        "        plt.title(f\"Converted: {png_file}\")\n",
        "        plt.show()\n",
        "        \n",
        "        plt.close('all')\n",
        "        print(f\"Successfully converted {dxf_file} to {png_file}\")\n",
        "        \n",
        "    except Exception as e:\n",
        "        print(f\"Error converting {dxf_file}: {str(e)}\")\n",
        "        raise"
      ],
      "metadata": {
        "id": "converter_function"
      },
      "execution_count": null,
      "outputs": []
    },
    {
      "cell_type": "markdown",
      "source": [
        "## Upload DXF Files\n",
        "\n",
        "Run the cell below to upload your DXF files:"
      ],
      "metadata": {
        "id": "upload_header"
      }
    },
    {
      "cell_type": "code",
      "source": [
        "# Upload files\n",
        "uploaded = files.upload()\n",
        "\n",
        "# List uploaded files\n",
        "print(\"Uploaded files:\")\n",
        "for filename in uploaded.keys():\n",
        "    print(f\"- {filename}\")"
      ],
      "metadata": {
        "id": "upload_files"
      },
      "execution_count": null,
      "outputs": []
    },
    {
      "cell_type": "markdown",
      "source": [
        "## Convert DXF to PNG\n",
        "\n",
        "Convert the uploaded DXF files to PNG format:"
      ],
      "metadata": {
        "id": "convert_header"
      }
    },
    {
      "cell_type": "code",
      "source": [
        "# Convert all uploaded DXF files\n",
        "for filename in uploaded.keys():\n",
        "    if filename.endswith('.dxf'):\n",
        "        output_name = filename.replace('.dxf', '_converted.png')\n",
        "        convert_dxf_to_png(filename, output_name)"
      ],
      "metadata": {
        "id": "convert_files"
      },
      "execution_count": null,
      "outputs": []
    },
    {
      "cell_type": "markdown",
      "source": [
        "## Download Converted Files\n",
        "\n",
        "Download the converted PNG files:"
      ],
      "metadata": {
        "id": "download_header"
      }
    },
    {
      "cell_type": "code",
      "source": [
        "# Download all PNG files\n",
        "import glob\n",
        "\n",
        "png_files = glob.glob('*_converted.png')\n",
        "for png_file in png_files:\n",
        "    print(f\"Downloading: {png_file}\")\n",
        "    files.download(png_file)"
      ],
      "metadata": {
        "id": "download_files"
      },
      "execution_count": null,
      "outputs": []
    },
    {
      "cell_type": "markdown",
      "source": [
        "## Alternative: Convert Specific Files\n",
        "\n",
        "If you have test_file1.dxf and test_file2.dxf:"
      ],
      "metadata": {
        "id": "alternative_header"
      }
    },
    {
      "cell_type": "code",
      "source": [
        "# Convert specific test files\n",
        "test_files = [\n",
        "    (\"test_file1.dxf\", \"test_file1_converted.png\"),\n",
        "    (\"test_file2.dxf\", \"test_file2_converted.png\")\n",
        "]\n",
        "\n",
        "for dxf_file, png_file in test_files:\n",
        "    if os.path.exists(dxf_file):\n",
        "        convert_dxf_to_png(dxf_file, png_file)\n",
        "    else:\n",
        "        print(f\"{dxf_file} not found\")"
      ],
      "metadata": {
        "id": "convert_specific"
      },
      "execution_count": null,
      "outputs": []
    }
  ]
}