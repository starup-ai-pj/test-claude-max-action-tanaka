{
 "cells": [
  {
   "cell_type": "markdown",
   "metadata": {},
   "source": [
    "# DXF to PNG Converter (Google Colab Edition)\n",
    "\n",
    "このノートブックは、DXFファイルをPNG形式に変換します。日本語テキストの表示もサポートしています。\n",
    "\n",
    "This notebook converts DXF files to PNG format with Japanese text support."
   ]
  },
  {
   "cell_type": "markdown",
   "metadata": {},
   "source": [
    "## 1. 環境セットアップ / Environment Setup\n",
    "\n",
    "必要なパッケージとフォントをインストールします。"
   ]
  },
  {
   "cell_type": "code",
   "execution_count": null,
   "metadata": {},
   "outputs": [],
   "source": [
    "# Install required packages\n",
    "!pip install ezdxf matplotlib pillow\n",
    "\n",
    "# Install Japanese fonts (for Google Colab)\n",
    "import os\n",
    "if 'COLAB_GPU' in os.environ or 'COLAB_TPU_ADDR' in os.environ:\n",
    "    print(\"Installing Japanese fonts for Google Colab...\")\n",
    "    !apt-get -y install fonts-noto-cjk fonts-ipafont-gothic fonts-ipafont-mincho\n",
    "    print(\"✓ Japanese fonts installed\")\n",
    "else:\n",
    "    print(\"Not running in Google Colab. Please ensure Japanese fonts are installed on your system.\")\n",
    "    print(\"macOS: brew install font-noto-sans-cjk-jp\")\n",
    "    print(\"Linux: sudo apt-get install fonts-noto-cjk\")"
   ]
  },
  {
   "cell_type": "markdown",
   "metadata": {},
   "source": [
    "## 2. ライブラリのインポートとフォント設定 / Import Libraries and Setup Fonts"
   ]
  },
  {
   "cell_type": "code",
   "execution_count": null,
   "metadata": {},
   "outputs": [],
   "source": [
    "import warnings\n",
    "warnings.filterwarnings('ignore')\n",
    "\n",
    "import ezdxf\n",
    "from ezdxf import recover\n",
    "from ezdxf.addons.drawing import matplotlib as ezdxf_matplotlib\n",
    "import matplotlib.pyplot as plt\n",
    "import matplotlib.font_manager as fm\n",
    "from PIL import Image\n",
    "from pathlib import Path\n",
    "import platform\n",
    "\n",
    "# Clear font cache and rebuild\n",
    "fm._rebuild()\n",
    "\n",
    "# Platform detection and font setup\n",
    "system = platform.system()\n",
    "print(f\"Running on: {system}\")\n",
    "\n",
    "# Find available Japanese fonts\n",
    "japanese_fonts = []\n",
    "font_priority = [\n",
    "    \"Noto Sans CJK JP\", \"Hiragino Sans\", \"Yu Gothic\", \"IPAGothic\", \n",
    "    \"Hiragino Kaku Gothic Pro\", \"Osaka\", \"Meiryo\", \"MS Gothic\"\n",
    "]\n",
    "\n",
    "available_fonts = [f.name for f in fm.fontManager.ttflist]\n",
    "for font in font_priority:\n",
    "    if font in available_fonts:\n",
    "        japanese_fonts.append(font)\n",
    "\n",
    "if japanese_fonts:\n",
    "    selected_font = japanese_fonts[0]\n",
    "    plt.rcParams['font.family'] = selected_font\n",
    "    print(f\"✓ Using Japanese font: {selected_font}\")\n",
    "else:\n",
    "    print(\"⚠️  No Japanese fonts found. Text may not display correctly.\")\n",
    "    print(\"Available fonts:\", available_fonts[:10], \"...\")"
   ]
  },
  {
   "cell_type": "markdown",
   "metadata": {},
   "source": [
    "## 3. DXFファイルのアップロード / Upload DXF Files\n",
    "\n",
    "DXFファイルをアップロードしてください。"
   ]
  },
  {
   "cell_type": "code",
   "execution_count": null,
   "metadata": {},
   "outputs": [],
   "source": [
    "from google.colab import files\n",
    "import os\n",
    "\n",
    "# Create upload directory\n",
    "upload_dir = \"uploaded_dxf\"\n",
    "os.makedirs(upload_dir, exist_ok=True)\n",
    "\n",
    "print(\"DXFファイルをアップロードしてください / Please upload your DXF files:\")\n",
    "uploaded = files.upload()\n",
    "\n",
    "# Save uploaded files\n",
    "for filename, content in uploaded.items():\n",
    "    filepath = os.path.join(upload_dir, filename)\n",
    "    with open(filepath, 'wb') as f:\n",
    "        f.write(content)\n",
    "    print(f\"✓ Uploaded: {filename}\")\n",
    "\n",
    "# List uploaded files\n",
    "dxf_files = list(Path(upload_dir).glob(\"*.dxf\"))\n",
    "print(f\"\\n{len(dxf_files)} DXF file(s) uploaded\")"
   ]
  },
  {
   "cell_type": "markdown",
   "metadata": {},
   "source": [
    "## 4. DXF to PNG 変換関数 / Conversion Function"
   ]
  },
  {
   "cell_type": "code",
   "execution_count": null,
   "metadata": {},
   "outputs": [],
   "source": [
    "def convert_dxf_to_png(dxf_path, png_path, dpi=300):\n",
    "    \"\"\"Convert DXF file to PNG with Japanese text support\"\"\"\n",
    "    try:\n",
    "        # Load DXF file\n",
    "        print(f\"Loading: {dxf_path}\")\n",
    "        try:\n",
    "            doc = ezdxf.readfile(dxf_path)\n",
    "        except Exception as e:\n",
    "            print(f\"Standard loading failed: {e}\")\n",
    "            print(\"Attempting recovery mode...\")\n",
    "            doc, auditor = recover.readfile(dxf_path)\n",
    "            if auditor.has_errors:\n",
    "                print(f\"Recovery completed with {len(auditor.errors)} errors\")\n",
    "        \n",
    "        # Create figure\n",
    "        fig = plt.figure(figsize=(12, 9))\n",
    "        ax = fig.add_axes([0, 0, 1, 1])\n",
    "        \n",
    "        # Draw DXF\n",
    "        msp = doc.modelspace()\n",
    "        backend = ezdxf_matplotlib.MatplotlibBackend(ax)\n",
    "        frontend = ezdxf.addons.drawing.Frontend(backend)\n",
    "        frontend.draw_layout(msp, finalize=True)\n",
    "        \n",
    "        # Set aspect ratio\n",
    "        ax.set_aspect('equal')\n",
    "        \n",
    "        # Save PNG\n",
    "        print(f\"Saving: {png_path}\")\n",
    "        fig.savefig(png_path, dpi=dpi, bbox_inches='tight', pad_inches=0.1)\n",
    "        plt.close(fig)\n",
    "        \n",
    "        # Verify\n",
    "        if os.path.exists(png_path):\n",
    "            img = Image.open(png_path)\n",
    "            print(f\"✓ Success: {img.size[0]}x{img.size[1]} pixels\")\n",
    "            return True\n",
    "        else:\n",
    "            print(\"✗ Failed: Output file not created\")\n",
    "            return False\n",
    "            \n",
    "    except Exception as e:\n",
    "        print(f\"✗ Error: {str(e)}\")\n",
    "        import traceback\n",
    "        traceback.print_exc()\n",
    "        return False"
   ]
  },
  {
   "cell_type": "markdown",
   "metadata": {},
   "source": [
    "## 5. 変換実行 / Execute Conversion"
   ]
  },
  {
   "cell_type": "code",
   "execution_count": null,
   "metadata": {},
   "outputs": [],
   "source": [
    "# Create output directory\n",
    "output_dir = \"converted_png\"\n",
    "os.makedirs(output_dir, exist_ok=True)\n",
    "\n",
    "# Convert all DXF files\n",
    "converted_files = []\n",
    "\n",
    "for dxf_file in dxf_files:\n",
    "    png_file = Path(output_dir) / f\"{dxf_file.stem}.png\"\n",
    "    print(f\"\\nConverting: {dxf_file.name}\")\n",
    "    \n",
    "    if convert_dxf_to_png(str(dxf_file), str(png_file), dpi=300):\n",
    "        converted_files.append(png_file)\n",
    "\n",
    "print(f\"\\n✓ Converted {len(converted_files)} file(s)\")"
   ]
  },
  {
   "cell_type": "markdown",
   "metadata": {},
   "source": [
    "## 6. 結果の表示 / Display Results"
   ]
  },
  {
   "cell_type": "code",
   "execution_count": null,
   "metadata": {},
   "outputs": [],
   "source": [
    "# Display converted images\n",
    "from IPython.display import Image as IPImage, display\n",
    "\n",
    "for png_file in converted_files:\n",
    "    print(f\"\\n📄 {png_file.name}:\")\n",
    "    display(IPImage(str(png_file), width=600))"
   ]
  },
  {
   "cell_type": "markdown",
   "metadata": {},
   "source": [
    "## 7. ダウンロード / Download Converted Files"
   ]
  },
  {
   "cell_type": "code",
   "execution_count": null,
   "metadata": {},
   "outputs": [],
   "source": [
    "# Download all converted PNG files\n",
    "print(\"Downloading converted files...\")\n",
    "\n",
    "for png_file in converted_files:\n",
    "    print(f\"Downloading: {png_file.name}\")\n",
    "    files.download(str(png_file))\n",
    "\n",
    "print(\"\\n✓ All files downloaded!\")"
   ]
  },
  {
   "cell_type": "markdown",
   "metadata": {},
   "source": [
    "## トラブルシューティング / Troubleshooting\n",
    "\n",
    "### 日本語が表示されない場合 / If Japanese text doesn't display:\n",
    "\n",
    "1. **フォントの確認 / Check fonts:**"
   ]
  },
  {
   "cell_type": "code",
   "execution_count": null,
   "metadata": {},
   "outputs": [],
   "source": [
    "# Check available Japanese fonts\n",
    "print(\"Available fonts with CJK support:\")\n",
    "cjk_fonts = []\n",
    "for font in fm.fontManager.ttflist:\n",
    "    if any(term in font.name.lower() for term in ['cjk', 'japan', 'gothic', 'mincho', 'hiragino', 'noto']):\n",
    "        cjk_fonts.append(font.name)\n",
    "\n",
    "for font in sorted(set(cjk_fonts)):\n",
    "    print(f\"  - {font}\")\n",
    "\n",
    "if not cjk_fonts:\n",
    "    print(\"  No CJK fonts found!\")\n",
    "    print(\"\\nFor macOS users:\")\n",
    "    print(\"  1. Install via Homebrew: brew install font-noto-sans-cjk-jp\")\n",
    "    print(\"  2. Or download from: https://www.google.com/get/noto/\")\n",
    "    print(\"\\nFor local notebook (not Colab):\")\n",
    "    print(\"  Restart kernel after installing fonts\")"
   ]
  },
  {
   "cell_type": "markdown",
   "metadata": {},
   "source": [
    "### macOS固有の問題 / macOS Specific Issues:\n",
    "\n",
    "macOSでフォントが見つからない場合:\n",
    "\n",
    "1. **Homebrewでインストール:**\n",
    "   ```bash\n",
    "   brew install font-noto-sans-cjk-jp\n",
    "   ```\n",
    "\n",
    "2. **Font Bookでシステムフォントを確認:**\n",
    "   - Applications → Font Book\n",
    "   - 「日本語」カテゴリを確認\n",
    "\n",
    "3. **Microsoft Officeがインストールされている場合:**\n",
    "   - MS Gothic, Meiryoなどが利用可能\n",
    "\n",
    "4. **カーネルを再起動:**\n",
    "   - フォントインストール後は必ずJupyterカーネルを再起動"
   ]
  }
 ],
 "metadata": {
  "kernelspec": {
   "display_name": "Python 3",
   "language": "python",
   "name": "python3"
  },
  "language_info": {
   "codemirror_mode": {
    "name": "ipython",
    "version": 3
   },
   "file_extension": ".py",
   "mimetype": "text/x-python",
   "name": "python",
   "nbconvert_exporter": "python",
   "pygments_lexer": "ipython3",
   "version": "3.8.0"
  }
 },
 "nbformat": 4,
 "nbformat_minor": 4
}